{
  "nbformat": 4,
  "nbformat_minor": 0,
  "metadata": {
    "colab": {
      "name": "DONE imdb text classification",
      "provenance": [],
      "collapsed_sections": [],
      "include_colab_link": true
    },
    "kernelspec": {
      "name": "python3",
      "display_name": "Python 3"
    },
    "accelerator": "GPU"
  },
  "cells": [
    {
      "cell_type": "markdown",
      "metadata": {
        "id": "view-in-github",
        "colab_type": "text"
      },
      "source": [
        "<a href=\"https://colab.research.google.com/github/MooNight009/ColabProjects/blob/master/DONE_imdb_text_classification.ipynb\" target=\"_parent\"><img src=\"https://colab.research.google.com/assets/colab-badge.svg\" alt=\"Open In Colab\"/></a>"
      ]
    },
    {
      "cell_type": "code",
      "metadata": {
        "id": "Yw04fmdqHOAL",
        "colab_type": "code",
        "outputId": "49f601de-be0c-4756-b96a-4e1a38749acf",
        "colab": {
          "base_uri": "https://localhost:8080/",
          "height": 102
        }
      },
      "source": [
        "%tensorflow_version 2.x\n",
        "\n",
        "from __future__ import absolute_import, division, print_function, unicode_literals\n",
        "\n",
        "import numpy as np\n",
        "\n",
        "import tensorflow as tf\n",
        "tf.executing_eagerly\n",
        "!pip install -q tensorflow-hub\n",
        "!pip install -q tensorflow-datasets\n",
        "import tensorflow_hub as hub\n",
        "import tensorflow_datasets as tfds\n",
        "\n",
        "print(\"Version: \", tf.__version__)\n",
        "print(\"Eager mode: \", tf.executing_eagerly())\n",
        "print(\"Hub version: \", hub.__version__)\n",
        "print(\"GPU is\", \"available\" if tf.config.experimental.list_physical_devices(\"GPU\") else \"NOT AVAILABLE\")"
      ],
      "execution_count": 0,
      "outputs": [
        {
          "output_type": "stream",
          "text": [
            "TensorFlow 2.x selected.\n",
            "Version:  2.1.0-rc1\n",
            "Eager mode:  True\n",
            "Hub version:  0.7.0\n",
            "GPU is available\n"
          ],
          "name": "stdout"
        }
      ]
    },
    {
      "cell_type": "code",
      "metadata": {
        "id": "Hjvf-QOAIz4e",
        "colab_type": "code",
        "colab": {}
      },
      "source": [
        "# Split the training set into 60% and 40%, so we'll end up with 15,000 examples\n",
        "# for training, 10,000 examples for validation and 25,000 examples for testing.\n",
        "train_validation_split = tfds.Split.TRAIN.subsplit([6, 4])\n",
        "\n",
        "(train_data, validation_data), test_data = tfds.load(\n",
        "    name=\"imdb_reviews\", \n",
        "    split=(train_validation_split, tfds.Split.TEST),\n",
        "    as_supervised=True)"
      ],
      "execution_count": 0,
      "outputs": []
    },
    {
      "cell_type": "code",
      "metadata": {
        "id": "Up0VHdCaJf3S",
        "colab_type": "code",
        "colab": {}
      },
      "source": [
        "train_examples_batch, train_labels_batch = next(iter(train_data.batch(10)))\n",
        "train_examples_batch"
      ],
      "execution_count": 0,
      "outputs": []
    },
    {
      "cell_type": "code",
      "metadata": {
        "id": "MrcMH4qbKBMA",
        "colab_type": "code",
        "colab": {}
      },
      "source": [
        "train_labels_batch"
      ],
      "execution_count": 0,
      "outputs": []
    },
    {
      "cell_type": "code",
      "metadata": {
        "id": "SZfJ5iUKMRV3",
        "colab_type": "code",
        "colab": {}
      },
      "source": [
        "embedding = \"https://tfhub.dev/google/tf2-preview/gnews-swivel-20dim/1\"\n",
        "hub_layer = hub.KerasLayer(embedding, input_shape=[], \n",
        "                           dtype=tf.string, trainable=True)\n",
        "hub_layer(train_examples_batch[:3])"
      ],
      "execution_count": 0,
      "outputs": []
    },
    {
      "cell_type": "code",
      "metadata": {
        "id": "dqCoXc8JMVfP",
        "colab_type": "code",
        "outputId": "6e8e33de-1d8d-4e18-bff9-276e0d602403",
        "colab": {
          "base_uri": "https://localhost:8080/",
          "height": 255
        }
      },
      "source": [
        "model = tf.keras.Sequential()\n",
        "model.add(hub_layer)\n",
        "model.add(tf.keras.layers.Dense(14, activation='relu'))\n",
        "model.add(tf.keras.layers.Dense(1, activation='sigmoid'))\n",
        "\n",
        "model.summary()"
      ],
      "execution_count": 0,
      "outputs": [
        {
          "output_type": "stream",
          "text": [
            "Model: \"sequential\"\n",
            "_________________________________________________________________\n",
            "Layer (type)                 Output Shape              Param #   \n",
            "=================================================================\n",
            "keras_layer (KerasLayer)     (None, 20)                400020    \n",
            "_________________________________________________________________\n",
            "dense (Dense)                (None, 14)                294       \n",
            "_________________________________________________________________\n",
            "dense_1 (Dense)              (None, 1)                 15        \n",
            "=================================================================\n",
            "Total params: 400,329\n",
            "Trainable params: 400,329\n",
            "Non-trainable params: 0\n",
            "_________________________________________________________________\n"
          ],
          "name": "stdout"
        }
      ]
    },
    {
      "cell_type": "code",
      "metadata": {
        "id": "1HEpjDCGNIjW",
        "colab_type": "code",
        "colab": {}
      },
      "source": [
        "model.compile(optimizer='adam',\n",
        "              loss='binary_crossentropy',\n",
        "              metrics=['accuracy'])"
      ],
      "execution_count": 0,
      "outputs": []
    },
    {
      "cell_type": "code",
      "metadata": {
        "id": "xEm840B3NPAc",
        "colab_type": "code",
        "outputId": "54929910-c4af-49b2-bfd4-3decb6e3587c",
        "colab": {
          "base_uri": "https://localhost:8080/",
          "height": 1000
        }
      },
      "source": [
        "history = model.fit(train_data.shuffle(10000).batch(512),\n",
        "                    epochs=30,\n",
        "                    validation_data=validation_data.batch(512),\n",
        "                    verbose=1)"
      ],
      "execution_count": 0,
      "outputs": [
        {
          "output_type": "stream",
          "text": [
            "Epoch 1/50\n",
            "30/30 [==============================] - 6s 191ms/step - loss: 0.9470 - accuracy: 0.4480 - val_loss: 0.7639 - val_accuracy: 0.4815\n",
            "Epoch 2/50\n",
            "30/30 [==============================] - 5s 151ms/step - loss: 0.6974 - accuracy: 0.5557 - val_loss: 0.6616 - val_accuracy: 0.6081\n",
            "Epoch 3/50\n",
            "30/30 [==============================] - 5s 152ms/step - loss: 0.6425 - accuracy: 0.6367 - val_loss: 0.6288 - val_accuracy: 0.6496\n",
            "Epoch 4/50\n",
            "30/30 [==============================] - 5s 156ms/step - loss: 0.6106 - accuracy: 0.6709 - val_loss: 0.6020 - val_accuracy: 0.6749\n",
            "Epoch 5/50\n",
            "30/30 [==============================] - 5s 164ms/step - loss: 0.5805 - accuracy: 0.6981 - val_loss: 0.5750 - val_accuracy: 0.7005\n",
            "Epoch 6/50\n",
            "30/30 [==============================] - 5s 160ms/step - loss: 0.5485 - accuracy: 0.7287 - val_loss: 0.5439 - val_accuracy: 0.7310\n",
            "Epoch 7/50\n",
            "30/30 [==============================] - 5s 153ms/step - loss: 0.5130 - accuracy: 0.7597 - val_loss: 0.5123 - val_accuracy: 0.7560\n",
            "Epoch 8/50\n",
            "30/30 [==============================] - 5s 151ms/step - loss: 0.4767 - accuracy: 0.7879 - val_loss: 0.4806 - val_accuracy: 0.7796\n",
            "Epoch 9/50\n",
            "30/30 [==============================] - 5s 152ms/step - loss: 0.4403 - accuracy: 0.8111 - val_loss: 0.4503 - val_accuracy: 0.8027\n",
            "Epoch 10/50\n",
            "30/30 [==============================] - 5s 156ms/step - loss: 0.4070 - accuracy: 0.8320 - val_loss: 0.4224 - val_accuracy: 0.8197\n",
            "Epoch 11/50\n",
            "30/30 [==============================] - 5s 163ms/step - loss: 0.3738 - accuracy: 0.8518 - val_loss: 0.3981 - val_accuracy: 0.8314\n",
            "Epoch 12/50\n",
            "30/30 [==============================] - 4s 149ms/step - loss: 0.3450 - accuracy: 0.8661 - val_loss: 0.3765 - val_accuracy: 0.8423\n",
            "Epoch 13/50\n",
            "30/30 [==============================] - 5s 157ms/step - loss: 0.3185 - accuracy: 0.8785 - val_loss: 0.3584 - val_accuracy: 0.8495\n",
            "Epoch 14/50\n",
            "30/30 [==============================] - 5s 162ms/step - loss: 0.2947 - accuracy: 0.8898 - val_loss: 0.3444 - val_accuracy: 0.8559\n",
            "Epoch 15/50\n",
            "30/30 [==============================] - 5s 153ms/step - loss: 0.2751 - accuracy: 0.8973 - val_loss: 0.3309 - val_accuracy: 0.8609\n",
            "Epoch 16/50\n",
            "30/30 [==============================] - 5s 160ms/step - loss: 0.2537 - accuracy: 0.9079 - val_loss: 0.3210 - val_accuracy: 0.8671\n",
            "Epoch 17/50\n",
            "30/30 [==============================] - 5s 150ms/step - loss: 0.2381 - accuracy: 0.9146 - val_loss: 0.3125 - val_accuracy: 0.8702\n",
            "Epoch 18/50\n",
            "30/30 [==============================] - 5s 154ms/step - loss: 0.2217 - accuracy: 0.9221 - val_loss: 0.3059 - val_accuracy: 0.8713\n",
            "Epoch 19/50\n",
            "30/30 [==============================] - 5s 158ms/step - loss: 0.2082 - accuracy: 0.9267 - val_loss: 0.3010 - val_accuracy: 0.8734\n",
            "Epoch 20/50\n",
            "30/30 [==============================] - 5s 162ms/step - loss: 0.1966 - accuracy: 0.9315 - val_loss: 0.2975 - val_accuracy: 0.8739\n",
            "Epoch 21/50\n",
            "30/30 [==============================] - 5s 161ms/step - loss: 0.1841 - accuracy: 0.9366 - val_loss: 0.2956 - val_accuracy: 0.8760\n",
            "Epoch 22/50\n",
            "30/30 [==============================] - 5s 158ms/step - loss: 0.1730 - accuracy: 0.9411 - val_loss: 0.2929 - val_accuracy: 0.8777\n",
            "Epoch 23/50\n",
            "30/30 [==============================] - 5s 159ms/step - loss: 0.1631 - accuracy: 0.9449 - val_loss: 0.2916 - val_accuracy: 0.8791\n",
            "Epoch 24/50\n",
            "30/30 [==============================] - 5s 157ms/step - loss: 0.1539 - accuracy: 0.9502 - val_loss: 0.2915 - val_accuracy: 0.8792\n",
            "Epoch 25/50\n",
            "30/30 [==============================] - 5s 161ms/step - loss: 0.1463 - accuracy: 0.9555 - val_loss: 0.2920 - val_accuracy: 0.8796\n",
            "Epoch 26/50\n",
            "30/30 [==============================] - 5s 152ms/step - loss: 0.1370 - accuracy: 0.9588 - val_loss: 0.2929 - val_accuracy: 0.8790\n",
            "Epoch 27/50\n",
            "30/30 [==============================] - 5s 158ms/step - loss: 0.1299 - accuracy: 0.9623 - val_loss: 0.2942 - val_accuracy: 0.8782\n",
            "Epoch 28/50\n",
            "30/30 [==============================] - 5s 157ms/step - loss: 0.1221 - accuracy: 0.9647 - val_loss: 0.2962 - val_accuracy: 0.8770\n",
            "Epoch 29/50\n",
            "30/30 [==============================] - 5s 160ms/step - loss: 0.1153 - accuracy: 0.9678 - val_loss: 0.2987 - val_accuracy: 0.8769\n",
            "Epoch 30/50\n",
            "30/30 [==============================] - 5s 158ms/step - loss: 0.1088 - accuracy: 0.9704 - val_loss: 0.3013 - val_accuracy: 0.8771\n",
            "Epoch 31/50\n",
            "30/30 [==============================] - 5s 156ms/step - loss: 0.1018 - accuracy: 0.9734 - val_loss: 0.3042 - val_accuracy: 0.8758\n",
            "Epoch 32/50\n",
            "30/30 [==============================] - 5s 166ms/step - loss: 0.0971 - accuracy: 0.9755 - val_loss: 0.3078 - val_accuracy: 0.8750\n",
            "Epoch 33/50\n",
            "30/30 [==============================] - 5s 158ms/step - loss: 0.0909 - accuracy: 0.9771 - val_loss: 0.3113 - val_accuracy: 0.8759\n",
            "Epoch 34/50\n",
            "30/30 [==============================] - 5s 158ms/step - loss: 0.0845 - accuracy: 0.9790 - val_loss: 0.3152 - val_accuracy: 0.8743\n",
            "Epoch 35/50\n",
            "30/30 [==============================] - 5s 153ms/step - loss: 0.0807 - accuracy: 0.9813 - val_loss: 0.3199 - val_accuracy: 0.8748\n",
            "Epoch 36/50\n",
            "30/30 [==============================] - 5s 157ms/step - loss: 0.0752 - accuracy: 0.9825 - val_loss: 0.3238 - val_accuracy: 0.8738\n",
            "Epoch 37/50\n",
            "30/30 [==============================] - 5s 155ms/step - loss: 0.0713 - accuracy: 0.9843 - val_loss: 0.3309 - val_accuracy: 0.8744\n",
            "Epoch 38/50\n",
            "30/30 [==============================] - 5s 155ms/step - loss: 0.0667 - accuracy: 0.9861 - val_loss: 0.3410 - val_accuracy: 0.8727\n",
            "Epoch 39/50\n",
            "30/30 [==============================] - 5s 153ms/step - loss: 0.0631 - accuracy: 0.9869 - val_loss: 0.3394 - val_accuracy: 0.8743\n",
            "Epoch 40/50\n",
            "30/30 [==============================] - 5s 152ms/step - loss: 0.0593 - accuracy: 0.9886 - val_loss: 0.3450 - val_accuracy: 0.8734\n",
            "Epoch 41/50\n",
            "30/30 [==============================] - 5s 155ms/step - loss: 0.0558 - accuracy: 0.9901 - val_loss: 0.3513 - val_accuracy: 0.8726\n",
            "Epoch 42/50\n",
            "30/30 [==============================] - 5s 160ms/step - loss: 0.0519 - accuracy: 0.9913 - val_loss: 0.3555 - val_accuracy: 0.8719\n",
            "Epoch 43/50\n",
            "30/30 [==============================] - 5s 151ms/step - loss: 0.0495 - accuracy: 0.9918 - val_loss: 0.3622 - val_accuracy: 0.8717\n",
            "Epoch 44/50\n",
            "30/30 [==============================] - 5s 163ms/step - loss: 0.0464 - accuracy: 0.9928 - val_loss: 0.3681 - val_accuracy: 0.8709\n",
            "Epoch 45/50\n",
            "30/30 [==============================] - 5s 162ms/step - loss: 0.0437 - accuracy: 0.9933 - val_loss: 0.3753 - val_accuracy: 0.8701\n",
            "Epoch 46/50\n",
            "30/30 [==============================] - 5s 158ms/step - loss: 0.0409 - accuracy: 0.9945 - val_loss: 0.3814 - val_accuracy: 0.8709\n",
            "Epoch 47/50\n",
            "30/30 [==============================] - 4s 149ms/step - loss: 0.0384 - accuracy: 0.9949 - val_loss: 0.3851 - val_accuracy: 0.8705\n",
            "Epoch 48/50\n",
            "30/30 [==============================] - 5s 161ms/step - loss: 0.0368 - accuracy: 0.9952 - val_loss: 0.3930 - val_accuracy: 0.8708\n",
            "Epoch 49/50\n",
            "30/30 [==============================] - 5s 156ms/step - loss: 0.0359 - accuracy: 0.9963 - val_loss: 0.3974 - val_accuracy: 0.8690\n",
            "Epoch 50/50\n",
            "30/30 [==============================] - 5s 155ms/step - loss: 0.0324 - accuracy: 0.9965 - val_loss: 0.4034 - val_accuracy: 0.8691\n"
          ],
          "name": "stdout"
        }
      ]
    },
    {
      "cell_type": "code",
      "metadata": {
        "id": "WSU_3WonNxJ2",
        "colab_type": "code",
        "outputId": "eed827a6-0f69-47f6-f43b-8420eaa4c910",
        "colab": {
          "base_uri": "https://localhost:8080/",
          "height": 51
        }
      },
      "source": [
        "results = model.evaluate(test_data.batch(512), verbose=2)\n",
        "\n",
        "for name, value in zip(model.metrics_names, results):\n",
        "  print(\"%s: %.3f\" % (name, value))"
      ],
      "execution_count": 0,
      "outputs": [
        {
          "output_type": "stream",
          "text": [
            "loss: 0.446\n",
            "accuracy: 0.853\n"
          ],
          "name": "stdout"
        }
      ]
    }
  ]
}